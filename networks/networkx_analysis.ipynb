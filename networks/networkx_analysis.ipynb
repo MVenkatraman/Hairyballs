{
 "cells": [
  {
   "cell_type": "markdown",
   "metadata": {},
   "source": [
    "# Using Networkx to analyze output of WGCNA"
   ]
  },
  {
   "cell_type": "markdown",
   "metadata": {},
   "source": [
    "Extracted modules from WGCNA in R. Extracted them in the form of a dataframe with the following structure:\n",
    "\n",
    "Gene1    Gene2    Correlation\n",
    "\n",
    "Need it to be in the following config:\n",
    "\n",
    "Nodes    Edges    Edge Weights"
   ]
  },
  {
   "cell_type": "code",
   "execution_count": 1,
   "metadata": {
    "collapsed": false
   },
   "outputs": [
    {
     "name": "stderr",
     "output_type": "stream",
     "text": [
      "Vendor:  Continuum Analytics, Inc.\n",
      "Package: mkl\n",
      "Message: trial mode expires in 30 days\n"
     ]
    }
   ],
   "source": [
    "# first input networkx\n",
    "import networkx as nx"
   ]
  },
  {
   "cell_type": "markdown",
   "metadata": {},
   "source": [
    "Read in the network and create a digraph in networkx"
   ]
  },
  {
   "cell_type": "code",
   "execution_count": 60,
   "metadata": {
    "collapsed": false
   },
   "outputs": [],
   "source": [
    "C =nx.Graph()\n",
    "\n",
    "with open(\"cyanfull.txt\", 'r') as file:\n",
    "    for line in file:\n",
    "        if line.startswith(\"Gene1\"):\n",
    "            continue\n",
    "        splitline =line.split()\n",
    "        gene1 = splitline[0].lower()\n",
    "        gene2 = splitline[1].lower()\n",
    "        weighty = float(splitline[2])\n",
    "        C.add_edge(gene1, gene2, weight = weighty)\n",
    "    "
   ]
  },
  {
   "cell_type": "markdown",
   "metadata": {},
   "source": [
    "Get stats"
   ]
  },
  {
   "cell_type": "code",
   "execution_count": 80,
   "metadata": {
    "collapsed": false
   },
   "outputs": [
    {
     "name": "stdout",
     "output_type": "stream",
     "text": [
      "Nodes: 30\n",
      "Edges: 289\n"
     ]
    }
   ],
   "source": [
    "print(\"Nodes:\", len(C.nodes()))\n",
    "print(\"Edges:\", len(C.edges()))\n",
    "nnodes = len(C.nodes())\n",
    "nedges = len(C.edges())"
   ]
  },
  {
   "cell_type": "markdown",
   "metadata": {},
   "source": [
    "Now, lets plot it using Matplotlib pylot"
   ]
  },
  {
   "cell_type": "code",
   "execution_count": 34,
   "metadata": {
    "collapsed": true
   },
   "outputs": [],
   "source": [
    "import matplotlib.pyplot as plt"
   ]
  },
  {
   "cell_type": "code",
   "execution_count": 62,
   "metadata": {
    "collapsed": false
   },
   "outputs": [],
   "source": [
    "nx.draw(C, node_color = 'm', edge_color = \"b\" , with_labels = True, node_size = 1200)\n",
    "plt.show()"
   ]
  },
  {
   "cell_type": "markdown",
   "metadata": {},
   "source": [
    "Now, identify maximal cliques "
   ]
  },
  {
   "cell_type": "code",
   "execution_count": 87,
   "metadata": {
    "collapsed": false
   },
   "outputs": [
    {
     "name": "stdout",
     "output_type": "stream",
     "text": [
      "75\n"
     ]
    }
   ],
   "source": [
    "cliq = (nx.find_cliques(C))\n",
    "print(len(list(cliq)))"
   ]
  },
  {
   "cell_type": "markdown",
   "metadata": {},
   "source": [
    "Get size of largest clique"
   ]
  },
  {
   "cell_type": "code",
   "execution_count": 64,
   "metadata": {
    "collapsed": false
   },
   "outputs": [
    {
     "data": {
      "text/plain": [
       "14"
      ]
     },
     "execution_count": 64,
     "metadata": {},
     "output_type": "execute_result"
    }
   ],
   "source": [
    "nx.graph_clique_number(C)"
   ]
  },
  {
   "cell_type": "markdown",
   "metadata": {},
   "source": [
    "Find a clique that contains a node of choice. We will do this using the differentially expressed genes."
   ]
  },
  {
   "cell_type": "code",
   "execution_count": 70,
   "metadata": {
    "collapsed": false
   },
   "outputs": [
    {
     "data": {
      "text/plain": [
       "{'dnai2': [['rsbn1',\n",
       "   'map3k6',\n",
       "   'ilvbl',\n",
       "   'ormdl1',\n",
       "   'x5883',\n",
       "   'slco4a1',\n",
       "   'dnai2',\n",
       "   'ccny'],\n",
       "  ['rsbn1', 'map3k6', 'ilvbl', 'ormdl1', 'x5883', 'slco4a1', 'dnai2', 'kcnc4'],\n",
       "  ['rsbn1', 'map3k6', 'ilvbl', 'ormdl1', 'x5883', 'dnai2', 'plin3', 'ccny'],\n",
       "  ['rsbn1', 'map3k6', 'ilvbl', 'ormdl1', 'x5883', 'dnai2', 'plin3', 'kcnc4'],\n",
       "  ['rsbn1',\n",
       "   'map3k6',\n",
       "   'x5738',\n",
       "   'myh13',\n",
       "   'ap1m1',\n",
       "   'ccny',\n",
       "   'dnai2',\n",
       "   'x700',\n",
       "   'etv4',\n",
       "   'fgf23',\n",
       "   'x8863'],\n",
       "  ['rsbn1',\n",
       "   'map3k6',\n",
       "   'x5738',\n",
       "   'myh13',\n",
       "   'ap1m1',\n",
       "   'ccny',\n",
       "   'dnai2',\n",
       "   'slco4a1',\n",
       "   'etv4',\n",
       "   'fgf23',\n",
       "   'x8863'],\n",
       "  ['rsbn1',\n",
       "   'map3k6',\n",
       "   'x5738',\n",
       "   'myh13',\n",
       "   'ap1m1',\n",
       "   'ccny',\n",
       "   'dnai2',\n",
       "   'slco4a1',\n",
       "   'x5883',\n",
       "   'ormdl1'],\n",
       "  ['rsbn1',\n",
       "   'map3k6',\n",
       "   'x5738',\n",
       "   'myh13',\n",
       "   'ap1m1',\n",
       "   'adipoq',\n",
       "   'disc1',\n",
       "   'x700',\n",
       "   'x8863',\n",
       "   'etv4',\n",
       "   'fgf23',\n",
       "   'gga-mir-23b',\n",
       "   'dnai2'],\n",
       "  ['rsbn1',\n",
       "   'map3k6',\n",
       "   'x5738',\n",
       "   'myh13',\n",
       "   'ap1m1',\n",
       "   'adipoq',\n",
       "   'disc1',\n",
       "   'snora32',\n",
       "   'slco4a1',\n",
       "   'dnai2',\n",
       "   'etv4',\n",
       "   'fgf23',\n",
       "   'gga-mir-23b',\n",
       "   'x8863'],\n",
       "  ['rsbn1',\n",
       "   'map3k6',\n",
       "   'x5738',\n",
       "   'myh13',\n",
       "   'ap1m1',\n",
       "   'adipoq',\n",
       "   'disc1',\n",
       "   'snora32',\n",
       "   'slco4a1',\n",
       "   'dnai2',\n",
       "   'x5883'],\n",
       "  ['rsbn1',\n",
       "   'map3k6',\n",
       "   'x5738',\n",
       "   'myh13',\n",
       "   'hoga1',\n",
       "   'x8863',\n",
       "   'etv4',\n",
       "   'dnai2',\n",
       "   'fgf23',\n",
       "   'gga-mir-23b',\n",
       "   'disc1',\n",
       "   'adipoq',\n",
       "   'x700'],\n",
       "  ['rsbn1',\n",
       "   'map3k6',\n",
       "   'x5738',\n",
       "   'myh13',\n",
       "   'hoga1',\n",
       "   'x8863',\n",
       "   'etv4',\n",
       "   'dnai2',\n",
       "   'fgf23',\n",
       "   'gga-mir-23b',\n",
       "   'disc1',\n",
       "   'adipoq',\n",
       "   'slco4a1',\n",
       "   'snora32'],\n",
       "  ['rsbn1',\n",
       "   'map3k6',\n",
       "   'x5738',\n",
       "   'myh13',\n",
       "   'hoga1',\n",
       "   'x8863',\n",
       "   'etv4',\n",
       "   'dnai2',\n",
       "   'fgf23',\n",
       "   'ccny',\n",
       "   'x700'],\n",
       "  ['rsbn1',\n",
       "   'map3k6',\n",
       "   'x5738',\n",
       "   'myh13',\n",
       "   'hoga1',\n",
       "   'x8863',\n",
       "   'etv4',\n",
       "   'dnai2',\n",
       "   'fgf23',\n",
       "   'ccny',\n",
       "   'slco4a1'],\n",
       "  ['rsbn1', 'map3k6', 'x5738', 'plin3', 'ap1m1', 'ccny', 'x700', 'dnai2'],\n",
       "  ['rsbn1',\n",
       "   'map3k6',\n",
       "   'x5738',\n",
       "   'plin3',\n",
       "   'ap1m1',\n",
       "   'ccny',\n",
       "   'ormdl1',\n",
       "   'x5883',\n",
       "   'dnai2'],\n",
       "  ['rsbn1', 'map3k6', 'kcnc4', 'ormdl1', 'x5883', 'ap1m1', 'plin3', 'dnai2'],\n",
       "  ['rsbn1', 'map3k6', 'kcnc4', 'ormdl1', 'x5883', 'ap1m1', 'slco4a1', 'dnai2'],\n",
       "  ['rsbn1',\n",
       "   'rnf146',\n",
       "   'x5738',\n",
       "   'myh13',\n",
       "   'ap1m1',\n",
       "   'ccny',\n",
       "   'x700',\n",
       "   'etv4',\n",
       "   'dnai2'],\n",
       "  ['rsbn1', 'rnf146', 'x5738', 'myh13', 'ap1m1', 'ccny', 'x5883', 'dnai2'],\n",
       "  ['rsbn1',\n",
       "   'rnf146',\n",
       "   'x5738',\n",
       "   'myh13',\n",
       "   'ap1m1',\n",
       "   'adipoq',\n",
       "   'disc1',\n",
       "   'x700',\n",
       "   'etv4',\n",
       "   'gga-mir-23b',\n",
       "   'dnai2'],\n",
       "  ['rsbn1',\n",
       "   'rnf146',\n",
       "   'x5738',\n",
       "   'myh13',\n",
       "   'ap1m1',\n",
       "   'adipoq',\n",
       "   'disc1',\n",
       "   'snora32',\n",
       "   'dnai2',\n",
       "   'etv4',\n",
       "   'gga-mir-23b'],\n",
       "  ['rsbn1',\n",
       "   'rnf146',\n",
       "   'x5738',\n",
       "   'myh13',\n",
       "   'ap1m1',\n",
       "   'adipoq',\n",
       "   'disc1',\n",
       "   'snora32',\n",
       "   'dnai2',\n",
       "   'x5883'],\n",
       "  ['rsbn1', 'rnf146', 'x5738', 'plin3', 'ap1m1', 'ccny', 'dnai2', 'x700'],\n",
       "  ['rsbn1', 'rnf146', 'x5738', 'plin3', 'ap1m1', 'ccny', 'dnai2', 'x5883'],\n",
       "  ['x1019', 'dnai2', 'ccny', 'plin3', 'x700', 'ptpn22', 'rnf146'],\n",
       "  ['x1019', 'dnai2', 'ccny', 'plin3', 'fbxo45', 'ptpn22', 'rnf146'],\n",
       "  ['x1019', 'dnai2', 'ccny', 'plin3', 'fbxo45', 'x5883', 'ilvbl', 'ormdl1'],\n",
       "  ['x1019', 'dnai2', 'ccny', 'plin3', 'fbxo45', 'x5883', 'rnf146'],\n",
       "  ['x1019', 'dnai2', 'ccny', 'slco4a1', 'ilvbl', 'ormdl1', 'x5883'],\n",
       "  ['x1019', 'dnai2', 'ccny', 'slco4a1', 'ptpn22'],\n",
       "  ['x1019', 'dnai2', 'kcnc4', 'ormdl1', 'ilvbl', 'x5883', 'plin3', 'fbxo45'],\n",
       "  ['x1019', 'dnai2', 'kcnc4', 'ormdl1', 'ilvbl', 'x5883', 'slco4a1'],\n",
       "  ['ptpn22', 'dnai2', 'ap1m1', 'x5738', 'map3k6', 'plin3', 'x700', 'ccny'],\n",
       "  ['ptpn22',\n",
       "   'dnai2',\n",
       "   'ap1m1',\n",
       "   'x5738',\n",
       "   'map3k6',\n",
       "   'x8863',\n",
       "   'etv4',\n",
       "   'myh13',\n",
       "   'fgf23',\n",
       "   'x700',\n",
       "   'gga-mir-23b',\n",
       "   'adipoq'],\n",
       "  ['ptpn22',\n",
       "   'dnai2',\n",
       "   'ap1m1',\n",
       "   'x5738',\n",
       "   'map3k6',\n",
       "   'x8863',\n",
       "   'etv4',\n",
       "   'myh13',\n",
       "   'fgf23',\n",
       "   'x700',\n",
       "   'ccny'],\n",
       "  ['ptpn22',\n",
       "   'dnai2',\n",
       "   'ap1m1',\n",
       "   'x5738',\n",
       "   'map3k6',\n",
       "   'x8863',\n",
       "   'etv4',\n",
       "   'myh13',\n",
       "   'fgf23',\n",
       "   'slco4a1',\n",
       "   'gga-mir-23b',\n",
       "   'adipoq'],\n",
       "  ['ptpn22',\n",
       "   'dnai2',\n",
       "   'ap1m1',\n",
       "   'x5738',\n",
       "   'map3k6',\n",
       "   'x8863',\n",
       "   'etv4',\n",
       "   'myh13',\n",
       "   'fgf23',\n",
       "   'slco4a1',\n",
       "   'ccny'],\n",
       "  ['ptpn22',\n",
       "   'dnai2',\n",
       "   'ap1m1',\n",
       "   'x5738',\n",
       "   'rnf146',\n",
       "   'x700',\n",
       "   'etv4',\n",
       "   'myh13',\n",
       "   'gga-mir-23b',\n",
       "   'adipoq'],\n",
       "  ['ptpn22',\n",
       "   'dnai2',\n",
       "   'ap1m1',\n",
       "   'x5738',\n",
       "   'rnf146',\n",
       "   'x700',\n",
       "   'etv4',\n",
       "   'myh13',\n",
       "   'ccny'],\n",
       "  ['ptpn22', 'dnai2', 'ap1m1', 'x5738', 'rnf146', 'x700', 'plin3', 'ccny']]}"
      ]
     },
     "execution_count": 70,
     "metadata": {},
     "output_type": "execute_result"
    }
   ],
   "source": [
    "danode = [\"dnai2\"]\n",
    "nx.cliques_containing_node(C, nodes= danode)"
   ]
  },
  {
   "cell_type": "markdown",
   "metadata": {},
   "source": [
    "Find maximal independent sets"
   ]
  },
  {
   "cell_type": "code",
   "execution_count": 73,
   "metadata": {
    "collapsed": false,
    "scrolled": true
   },
   "outputs": [
    {
     "name": "stdout",
     "output_type": "stream",
     "text": [
      "2\n"
     ]
    }
   ],
   "source": [
    "ind = nx.maximal_independent_set(C)\n",
    "print(len(list(ind)))"
   ]
  },
  {
   "cell_type": "code",
   "execution_count": 75,
   "metadata": {
    "collapsed": false
   },
   "outputs": [
    {
     "data": {
      "text/plain": [
       "['x1019', 'map3k6']"
      ]
     },
     "execution_count": 75,
     "metadata": {},
     "output_type": "execute_result"
    }
   ],
   "source": [
    "ind"
   ]
  },
  {
   "cell_type": "markdown",
   "metadata": {},
   "source": [
    "Now, lets generate a few random networks "
   ]
  },
  {
   "cell_type": "code",
   "execution_count": 90,
   "metadata": {
    "collapsed": true
   },
   "outputs": [],
   "source": [
    "rand1 = nx.gnm_random_graph(nnodes,nedges, 3, directed= False)\n",
    "rand2 = nx.gnm_random_graph(nnodes,nedges, 19, directed= False)\n",
    "rand3 = nx.gnm_random_graph(nnodes,nedges, 42, directed= False)"
   ]
  },
  {
   "cell_type": "markdown",
   "metadata": {},
   "source": [
    "Cliques:"
   ]
  },
  {
   "cell_type": "code",
   "execution_count": 91,
   "metadata": {
    "collapsed": false
   },
   "outputs": [
    {
     "name": "stdout",
     "output_type": "stream",
     "text": [
      "377\n",
      "383\n",
      "373\n"
     ]
    }
   ],
   "source": [
    "cliq1 = (nx.find_cliques(rand1))\n",
    "print(len(list(cliq1)))\n",
    "cliq2 = (nx.find_cliques(rand2))\n",
    "print(len(list(cliq2)))\n",
    "cliq3 = (nx.find_cliques(rand3))\n",
    "print(len(list(cliq3)))\n"
   ]
  },
  {
   "cell_type": "markdown",
   "metadata": {},
   "source": [
    "Get size of largest clique"
   ]
  },
  {
   "cell_type": "code",
   "execution_count": 92,
   "metadata": {
    "collapsed": false
   },
   "outputs": [
    {
     "name": "stdout",
     "output_type": "stream",
     "text": [
      "8\n",
      "8\n",
      "8\n"
     ]
    }
   ],
   "source": [
    "print(nx.graph_clique_number(rand1))\n",
    "print(nx.graph_clique_number(rand2))\n",
    "print(nx.graph_clique_number(rand3))"
   ]
  },
  {
   "cell_type": "markdown",
   "metadata": {},
   "source": [
    "Get number of independent sets "
   ]
  },
  {
   "cell_type": "code",
   "execution_count": 93,
   "metadata": {
    "collapsed": false
   },
   "outputs": [
    {
     "name": "stdout",
     "output_type": "stream",
     "text": [
      "4\n",
      "4\n",
      "3\n"
     ]
    }
   ],
   "source": [
    "print(len(list(nx.maximal_independent_set(rand1))))\n",
    "print(len(list(nx.maximal_independent_set(rand2))))\n",
    "print(len(list(nx.maximal_independent_set(rand3))))"
   ]
  }
 ],
 "metadata": {
  "kernelspec": {
   "display_name": "Python 3",
   "language": "python",
   "name": "python3"
  },
  "language_info": {
   "codemirror_mode": {
    "name": "ipython",
    "version": 3
   },
   "file_extension": ".py",
   "mimetype": "text/x-python",
   "name": "python",
   "nbconvert_exporter": "python",
   "pygments_lexer": "ipython3",
   "version": "3.5.1"
  }
 },
 "nbformat": 4,
 "nbformat_minor": 0
}
