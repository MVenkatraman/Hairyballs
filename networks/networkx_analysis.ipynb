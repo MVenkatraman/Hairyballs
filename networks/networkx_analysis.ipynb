{
 "cells": [
  {
   "cell_type": "markdown",
   "metadata": {},
   "source": [
    "# Using Networkx to analyze output of WGCNA"
   ]
  },
  {
   "cell_type": "markdown",
   "metadata": {},
   "source": [
    "Extracted modules from WGCNA in R. Extracted them in the form of a dataframe with the following structure:\n",
    "\n",
    "Gene1    Gene2    Correlation\n",
    "\n",
    "Need it to be in the following config:\n",
    "\n",
    "Nodes    Edges    Edge Weights"
   ]
  },
  {
   "cell_type": "code",
   "execution_count": 1,
   "metadata": {
    "collapsed": false
   },
   "outputs": [
    {
     "name": "stderr",
     "output_type": "stream",
     "text": [
      "Vendor:  Continuum Analytics, Inc.\n",
      "Package: mkl\n",
      "Message: trial mode expires in 30 days\n"
     ]
    }
   ],
   "source": [
    "# first input networkx\n",
    "import networkx as nx"
   ]
  },
  {
   "cell_type": "markdown",
   "metadata": {},
   "source": [
    "Read in the network and create a digraph in networkx"
   ]
  },
  {
   "cell_type": "code",
   "execution_count": 2,
   "metadata": {
    "collapsed": false
   },
   "outputs": [],
   "source": [
    "G =nx.Graph()\n",
    "\n",
    "with open(\"skyblue1full.txt\", 'r') as file:\n",
    "    for line in file:\n",
    "        if line.startswith(\"Gene1\"):\n",
    "            continue\n",
    "        splitline =line.split()\n",
    "        gene1 = splitline[0].lower()\n",
    "        gene2 = splitline[1].lower()\n",
    "        weighty = float(splitline[2])\n",
    "        G.add_edge(gene1, gene2, weight = weighty)\n",
    "    "
   ]
  },
  {
   "cell_type": "markdown",
   "metadata": {},
   "source": [
    "Get stats"
   ]
  },
  {
   "cell_type": "code",
   "execution_count": 3,
   "metadata": {
    "collapsed": false
   },
   "outputs": [
    {
     "name": "stdout",
     "output_type": "stream",
     "text": [
      "Nodes: 30\n",
      "Edges: 302\n"
     ]
    }
   ],
   "source": [
    "print(\"Nodes:\", len(G.nodes()))\n",
    "print(\"Edges:\", len(G.edges()))\n",
    "nnodes = len(G.nodes())\n",
    "nedges = len(G.edges())"
   ]
  },
  {
   "cell_type": "markdown",
   "metadata": {},
   "source": [
    "Now, lets plot it using Matplotlib pylot"
   ]
  },
  {
   "cell_type": "code",
   "execution_count": 4,
   "metadata": {
    "collapsed": true
   },
   "outputs": [],
   "source": [
    "import matplotlib.pyplot as plt"
   ]
  },
  {
   "cell_type": "code",
   "execution_count": 5,
   "metadata": {
    "collapsed": false
   },
   "outputs": [],
   "source": [
    "nx.draw(G, node_color = 'm', edge_color = \"b\" , with_labels = True, node_size = 1500)\n",
    "plt.show()"
   ]
  },
  {
   "cell_type": "markdown",
   "metadata": {},
   "source": [
    "Now, identify maximal cliques "
   ]
  },
  {
   "cell_type": "code",
   "execution_count": 6,
   "metadata": {
    "collapsed": false
   },
   "outputs": [
    {
     "name": "stdout",
     "output_type": "stream",
     "text": [
      "48\n"
     ]
    }
   ],
   "source": [
    "cliq = (nx.find_cliques(G))\n",
    "print(len(list(cliq)))\n",
    "#sum(1 for x in cliq)"
   ]
  },
  {
   "cell_type": "markdown",
   "metadata": {},
   "source": [
    "Get size of largest clique"
   ]
  },
  {
   "cell_type": "code",
   "execution_count": 7,
   "metadata": {
    "collapsed": false
   },
   "outputs": [
    {
     "data": {
      "text/plain": [
       "15"
      ]
     },
     "execution_count": 7,
     "metadata": {},
     "output_type": "execute_result"
    }
   ],
   "source": [
    "nx.graph_clique_number(G)"
   ]
  },
  {
   "cell_type": "markdown",
   "metadata": {},
   "source": [
    "Find a clique that contains a node of choice. We will do this using the differentially expressed genes."
   ]
  },
  {
   "cell_type": "code",
   "execution_count": 8,
   "metadata": {
    "collapsed": false
   },
   "outputs": [
    {
     "data": {
      "text/plain": [
       "{'cox7c': []}"
      ]
     },
     "execution_count": 8,
     "metadata": {},
     "output_type": "execute_result"
    }
   ],
   "source": [
    "danode = [\"cox7c\"]\n",
    "nx.cliques_containing_node(G, nodes= danode)"
   ]
  },
  {
   "cell_type": "markdown",
   "metadata": {},
   "source": [
    "Find maximum independent sets. To do this we first generate the complement. Then we calculate the no. of cliques in the complement. That is equal to the max number of independent sets in G."
   ]
  },
  {
   "cell_type": "code",
   "execution_count": 9,
   "metadata": {
    "collapsed": false,
    "scrolled": true
   },
   "outputs": [
    {
     "data": {
      "text/plain": [
       "95"
      ]
     },
     "execution_count": 9,
     "metadata": {},
     "output_type": "execute_result"
    }
   ],
   "source": [
    "C = nx.complement(G)\n",
    "ind = (nx.find_cliques(C))\n",
    "sum(1 for x in ind)"
   ]
  },
  {
   "cell_type": "markdown",
   "metadata": {},
   "source": [
    "Size of largest independent set"
   ]
  },
  {
   "cell_type": "code",
   "execution_count": 10,
   "metadata": {
    "collapsed": false
   },
   "outputs": [
    {
     "data": {
      "text/plain": [
       "5"
      ]
     },
     "execution_count": 10,
     "metadata": {},
     "output_type": "execute_result"
    }
   ],
   "source": [
    "nx.graph_clique_number(C)"
   ]
  },
  {
   "cell_type": "markdown",
   "metadata": {},
   "source": [
    "Now, lets generate a few random networks "
   ]
  },
  {
   "cell_type": "code",
   "execution_count": 11,
   "metadata": {
    "collapsed": false
   },
   "outputs": [],
   "source": [
    "rand1 = nx.gnm_random_graph(nnodes,nedges, 3, directed= False)\n",
    "rand2 = nx.gnm_random_graph(nnodes,nedges, 19, directed= False)\n",
    "rand3 = nx.gnm_random_graph(nnodes,nedges, 42, directed= False)"
   ]
  },
  {
   "cell_type": "markdown",
   "metadata": {},
   "source": [
    "Cliques:"
   ]
  },
  {
   "cell_type": "code",
   "execution_count": 12,
   "metadata": {
    "collapsed": false,
    "scrolled": true
   },
   "outputs": [
    {
     "name": "stdout",
     "output_type": "stream",
     "text": [
      "350\n",
      "406\n",
      "441\n"
     ]
    }
   ],
   "source": [
    "cliq1 = (nx.find_cliques(rand1))\n",
    "print(sum(1 for x in cliq1))\n",
    "cliq2 = (nx.find_cliques(rand2))\n",
    "print(sum(1 for x in cliq2))\n",
    "cliq3 = (nx.find_cliques(rand3))\n",
    "print(sum(1 for x in cliq3))\n"
   ]
  },
  {
   "cell_type": "markdown",
   "metadata": {},
   "source": [
    "Get size of largest clique"
   ]
  },
  {
   "cell_type": "code",
   "execution_count": 13,
   "metadata": {
    "collapsed": false,
    "scrolled": true
   },
   "outputs": [
    {
     "name": "stdout",
     "output_type": "stream",
     "text": [
      "10\n",
      "9\n",
      "8\n"
     ]
    }
   ],
   "source": [
    "print(nx.graph_clique_number(rand1))\n",
    "print(nx.graph_clique_number(rand2))\n",
    "print(nx.graph_clique_number(rand3))"
   ]
  },
  {
   "cell_type": "markdown",
   "metadata": {},
   "source": [
    "Get number of independent sets "
   ]
  },
  {
   "cell_type": "code",
   "execution_count": 14,
   "metadata": {
    "collapsed": false,
    "scrolled": true
   },
   "outputs": [
    {
     "name": "stdout",
     "output_type": "stream",
     "text": [
      "80\n",
      "74\n",
      "86\n"
     ]
    }
   ],
   "source": [
    "# generate complements\n",
    "randcomp1 = nx.complement(rand1)\n",
    "randcomp2 = nx.complement(rand2)\n",
    "randcomp3 = nx.complement(rand3)\n",
    "\n",
    "# get cliques\n",
    "randind1 = (nx.find_cliques(randcomp1))\n",
    "print(sum(1 for x in randind1))\n",
    "randind2 = (nx.find_cliques(randcomp2))\n",
    "print(sum(1 for x in randind2))\n",
    "randind3 = (nx.find_cliques(randcomp3))\n",
    "print(sum(1 for x in randind3))"
   ]
  },
  {
   "cell_type": "markdown",
   "metadata": {},
   "source": [
    "Get size of largest independent set"
   ]
  },
  {
   "cell_type": "code",
   "execution_count": 15,
   "metadata": {
    "collapsed": false
   },
   "outputs": [
    {
     "name": "stdout",
     "output_type": "stream",
     "text": [
      "5\n",
      "5\n",
      "5\n"
     ]
    }
   ],
   "source": [
    "print(nx.graph_clique_number(randcomp1))\n",
    "print(nx.graph_clique_number(randcomp2))\n",
    "print(nx.graph_clique_number(randcomp3))"
   ]
  },
  {
   "cell_type": "markdown",
   "metadata": {},
   "source": [
    "done!"
   ]
  }
 ],
 "metadata": {
  "kernelspec": {
   "display_name": "Python 3",
   "language": "python",
   "name": "python3"
  },
  "language_info": {
   "codemirror_mode": {
    "name": "ipython",
    "version": 3
   },
   "file_extension": ".py",
   "mimetype": "text/x-python",
   "name": "python",
   "nbconvert_exporter": "python",
   "pygments_lexer": "ipython3",
   "version": "3.5.1"
  }
 },
 "nbformat": 4,
 "nbformat_minor": 0
}
